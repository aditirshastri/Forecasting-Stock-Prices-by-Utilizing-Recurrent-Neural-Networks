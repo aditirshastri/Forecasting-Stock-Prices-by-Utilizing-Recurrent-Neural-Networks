{
  "nbformat": 4,
  "nbformat_minor": 0,
  "metadata": {
    "kernelspec": {
      "language": "python",
      "display_name": "Python 3",
      "name": "python3"
    },
    "language_info": {
      "pygments_lexer": "ipython3",
      "nbconvert_exporter": "python",
      "version": "3.6.4",
      "file_extension": ".py",
      "codemirror_mode": {
        "name": "ipython",
        "version": 3
      },
      "name": "python",
      "mimetype": "text/x-python"
    },
    "colab": {
      "provenance": [],
      "include_colab_link": true
    }
  },
  "cells": [
    {
      "cell_type": "markdown",
      "metadata": {
        "id": "view-in-github",
        "colab_type": "text"
      },
      "source": [
        "<a href=\"https://colab.research.google.com/github/aditirshastri/Forecasting-Stock-Prices-by-Utilizing-Recurrent-Neural-Networks-and-Probabilistic-Statistical-Risk-A/blob/main/twitter_sentiment_analysis_lstm.ipynb\" target=\"_parent\"><img src=\"https://colab.research.google.com/assets/colab-badge.svg\" alt=\"Open In Colab\"/></a>"
      ]
    },
    {
      "cell_type": "markdown",
      "metadata": {
        "id": "PAo8RT72sn-Q"
      },
      "source": [
        "## Installing and importing dependencies"
      ]
    },
    {
      "cell_type": "markdown",
      "metadata": {
        "id": "p0hObnL4sn-X"
      },
      "source": [
        "To fetch tweets from twitter, we need to install the tweepy library. We will be using this package to pull tweets on which our model will make predictions."
      ]
    },
    {
      "cell_type": "code",
      "metadata": {
        "_uuid": "238fbc46-c037-40e4-9290-8bde43c88d5b",
        "_cell_guid": "f29554b2-21ed-416e-9a5b-8aed3a7943c5",
        "jupyter": {
          "outputs_hidden": false
        },
        "trusted": true,
        "id": "yTJtfz4ssn-Y",
        "colab": {
          "base_uri": "https://localhost:8080/"
        },
        "outputId": "59ca2fe8-4f0d-4bc9-f9be-cc507134523d"
      },
      "source": [
        "!pip install tweepy\n",
        "!pip install -U plotly"
      ],
      "execution_count": null,
      "outputs": [
        {
          "output_type": "stream",
          "text": [
            "Requirement already satisfied: tweepy in /usr/local/lib/python3.7/dist-packages (3.10.0)\n",
            "Requirement already satisfied: six>=1.10.0 in /usr/local/lib/python3.7/dist-packages (from tweepy) (1.15.0)\n",
            "Requirement already satisfied: requests[socks]>=2.11.1 in /usr/local/lib/python3.7/dist-packages (from tweepy) (2.23.0)\n",
            "Requirement already satisfied: requests-oauthlib>=0.7.0 in /usr/local/lib/python3.7/dist-packages (from tweepy) (1.3.0)\n",
            "Requirement already satisfied: certifi>=2017.4.17 in /usr/local/lib/python3.7/dist-packages (from requests[socks]>=2.11.1->tweepy) (2020.12.5)\n",
            "Requirement already satisfied: chardet<4,>=3.0.2 in /usr/local/lib/python3.7/dist-packages (from requests[socks]>=2.11.1->tweepy) (3.0.4)\n",
            "Requirement already satisfied: idna<3,>=2.5 in /usr/local/lib/python3.7/dist-packages (from requests[socks]>=2.11.1->tweepy) (2.10)\n",
            "Requirement already satisfied: urllib3!=1.25.0,!=1.25.1,<1.26,>=1.21.1 in /usr/local/lib/python3.7/dist-packages (from requests[socks]>=2.11.1->tweepy) (1.24.3)\n",
            "Requirement already satisfied: PySocks!=1.5.7,>=1.5.6; extra == \"socks\" in /usr/local/lib/python3.7/dist-packages (from requests[socks]>=2.11.1->tweepy) (1.7.1)\n",
            "Requirement already satisfied: oauthlib>=3.0.0 in /usr/local/lib/python3.7/dist-packages (from requests-oauthlib>=0.7.0->tweepy) (3.1.0)\n",
            "Requirement already up-to-date: plotly in /usr/local/lib/python3.7/dist-packages (4.14.3)\n",
            "Requirement already satisfied, skipping upgrade: six in /usr/local/lib/python3.7/dist-packages (from plotly) (1.15.0)\n",
            "Requirement already satisfied, skipping upgrade: retrying>=1.3.3 in /usr/local/lib/python3.7/dist-packages (from plotly) (1.3.3)\n"
          ],
          "name": "stdout"
        }
      ]
    },
    {
      "cell_type": "code",
      "metadata": {
        "_uuid": "fb09e282-ec77-4d20-8bfb-80e4d0500570",
        "_cell_guid": "24bc7437-2ef0-4d5b-92dc-66e786d98675",
        "jupyter": {
          "outputs_hidden": false
        },
        "trusted": true,
        "id": "k2r351X-sn-Z",
        "colab": {
          "base_uri": "https://localhost:8080/"
        },
        "outputId": "d8b212e0-ee0b-414f-fe05-37bd9782f6b9"
      },
      "source": [
        "import numpy as np # linear algebra\n",
        "import pandas as pd # data processing\n",
        "import os\n",
        "import tweepy as tw #for accessing Twitter API\n",
        "\n",
        "\n",
        "#For Preprocessing\n",
        "import re    # RegEx for removing non-letter characters\n",
        "import nltk  #natural language processing\n",
        "nltk.download(\"stopwords\")\n",
        "from nltk.corpus import stopwords\n",
        "from nltk.stem.porter import *\n",
        "\n",
        "# For Building the model\n",
        "from sklearn.model_selection import train_test_split\n",
        "import tensorflow as tf\n",
        "import seaborn as sns\n",
        "\n",
        "#For data visualization\n",
        "import matplotlib.pyplot as plt\n",
        "import matplotlib.patches as mpatches\n",
        "%matplotlib inline\n",
        "\n",
        "pd.options.plotting.backend = \"plotly\""
      ],
      "execution_count": null,
      "outputs": [
        {
          "output_type": "stream",
          "text": [
            "[nltk_data] Downloading package stopwords to /root/nltk_data...\n",
            "[nltk_data]   Package stopwords is already up-to-date!\n"
          ],
          "name": "stdout"
        }
      ]
    },
    {
      "cell_type": "markdown",
      "metadata": {
        "id": "JaP7cNBcsn-a"
      },
      "source": [
        "## Exploratory Data Analysis\n"
      ]
    },
    {
      "cell_type": "markdown",
      "metadata": {
        "id": "jJdbmrKmsn-a"
      },
      "source": [
        "### Cleaning and prepping dataset\n"
      ]
    },
    {
      "cell_type": "code",
      "metadata": {
        "_uuid": "dc5a245e-0841-4ce0-92c4-43b03bc27b6e",
        "_cell_guid": "e4d78a55-0bee-4c8e-80ab-78914dc44235",
        "jupyter": {
          "outputs_hidden": false
        },
        "trusted": true,
        "id": "enQxGQ8esn-a",
        "colab": {
          "base_uri": "https://localhost:8080/",
          "height": 425
        },
        "outputId": "e3e0e7f5-2137-4468-b07a-bb1bf01a53b7"
      },
      "source": [
        "# Load Tweet dataset\n",
        "df = pd.read_csv('/kaggle/input/twitter-and-reddit-sentimental-analysis-dataset/Twitter_Data.csv')\n",
        "# Output first five rows\n",
        "df.head()"
      ],
      "execution_count": null,
      "outputs": [
        {
          "output_type": "error",
          "ename": "FileNotFoundError",
          "evalue": "ignored",
          "traceback": [
            "\u001b[0;31m---------------------------------------------------------------------------\u001b[0m",
            "\u001b[0;31mFileNotFoundError\u001b[0m                         Traceback (most recent call last)",
            "\u001b[0;32m<ipython-input-3-552e5465c7bd>\u001b[0m in \u001b[0;36m<module>\u001b[0;34m()\u001b[0m\n\u001b[1;32m      1\u001b[0m \u001b[0;31m# Load Tweet dataset\u001b[0m\u001b[0;34m\u001b[0m\u001b[0;34m\u001b[0m\u001b[0;34m\u001b[0m\u001b[0m\n\u001b[0;32m----> 2\u001b[0;31m \u001b[0mdf\u001b[0m \u001b[0;34m=\u001b[0m \u001b[0mpd\u001b[0m\u001b[0;34m.\u001b[0m\u001b[0mread_csv\u001b[0m\u001b[0;34m(\u001b[0m\u001b[0;34m'/kaggle/input/twitter-and-reddit-sentimental-analysis-dataset/Twitter_Data.csv'\u001b[0m\u001b[0;34m)\u001b[0m\u001b[0;34m\u001b[0m\u001b[0;34m\u001b[0m\u001b[0m\n\u001b[0m\u001b[1;32m      3\u001b[0m \u001b[0;31m# Output first five rows\u001b[0m\u001b[0;34m\u001b[0m\u001b[0;34m\u001b[0m\u001b[0;34m\u001b[0m\u001b[0m\n\u001b[1;32m      4\u001b[0m \u001b[0mdf\u001b[0m\u001b[0;34m.\u001b[0m\u001b[0mhead\u001b[0m\u001b[0;34m(\u001b[0m\u001b[0;34m)\u001b[0m\u001b[0;34m\u001b[0m\u001b[0;34m\u001b[0m\u001b[0m\n",
            "\u001b[0;32m/usr/local/lib/python3.7/dist-packages/pandas/io/parsers.py\u001b[0m in \u001b[0;36mread_csv\u001b[0;34m(filepath_or_buffer, sep, delimiter, header, names, index_col, usecols, squeeze, prefix, mangle_dupe_cols, dtype, engine, converters, true_values, false_values, skipinitialspace, skiprows, skipfooter, nrows, na_values, keep_default_na, na_filter, verbose, skip_blank_lines, parse_dates, infer_datetime_format, keep_date_col, date_parser, dayfirst, cache_dates, iterator, chunksize, compression, thousands, decimal, lineterminator, quotechar, quoting, doublequote, escapechar, comment, encoding, dialect, error_bad_lines, warn_bad_lines, delim_whitespace, low_memory, memory_map, float_precision)\u001b[0m\n\u001b[1;32m    686\u001b[0m     )\n\u001b[1;32m    687\u001b[0m \u001b[0;34m\u001b[0m\u001b[0m\n\u001b[0;32m--> 688\u001b[0;31m     \u001b[0;32mreturn\u001b[0m \u001b[0m_read\u001b[0m\u001b[0;34m(\u001b[0m\u001b[0mfilepath_or_buffer\u001b[0m\u001b[0;34m,\u001b[0m \u001b[0mkwds\u001b[0m\u001b[0;34m)\u001b[0m\u001b[0;34m\u001b[0m\u001b[0;34m\u001b[0m\u001b[0m\n\u001b[0m\u001b[1;32m    689\u001b[0m \u001b[0;34m\u001b[0m\u001b[0m\n\u001b[1;32m    690\u001b[0m \u001b[0;34m\u001b[0m\u001b[0m\n",
            "\u001b[0;32m/usr/local/lib/python3.7/dist-packages/pandas/io/parsers.py\u001b[0m in \u001b[0;36m_read\u001b[0;34m(filepath_or_buffer, kwds)\u001b[0m\n\u001b[1;32m    452\u001b[0m \u001b[0;34m\u001b[0m\u001b[0m\n\u001b[1;32m    453\u001b[0m     \u001b[0;31m# Create the parser.\u001b[0m\u001b[0;34m\u001b[0m\u001b[0;34m\u001b[0m\u001b[0;34m\u001b[0m\u001b[0m\n\u001b[0;32m--> 454\u001b[0;31m     \u001b[0mparser\u001b[0m \u001b[0;34m=\u001b[0m \u001b[0mTextFileReader\u001b[0m\u001b[0;34m(\u001b[0m\u001b[0mfp_or_buf\u001b[0m\u001b[0;34m,\u001b[0m \u001b[0;34m**\u001b[0m\u001b[0mkwds\u001b[0m\u001b[0;34m)\u001b[0m\u001b[0;34m\u001b[0m\u001b[0;34m\u001b[0m\u001b[0m\n\u001b[0m\u001b[1;32m    455\u001b[0m \u001b[0;34m\u001b[0m\u001b[0m\n\u001b[1;32m    456\u001b[0m     \u001b[0;32mif\u001b[0m \u001b[0mchunksize\u001b[0m \u001b[0;32mor\u001b[0m \u001b[0miterator\u001b[0m\u001b[0;34m:\u001b[0m\u001b[0;34m\u001b[0m\u001b[0;34m\u001b[0m\u001b[0m\n",
            "\u001b[0;32m/usr/local/lib/python3.7/dist-packages/pandas/io/parsers.py\u001b[0m in \u001b[0;36m__init__\u001b[0;34m(self, f, engine, **kwds)\u001b[0m\n\u001b[1;32m    946\u001b[0m             \u001b[0mself\u001b[0m\u001b[0;34m.\u001b[0m\u001b[0moptions\u001b[0m\u001b[0;34m[\u001b[0m\u001b[0;34m\"has_index_names\"\u001b[0m\u001b[0;34m]\u001b[0m \u001b[0;34m=\u001b[0m \u001b[0mkwds\u001b[0m\u001b[0;34m[\u001b[0m\u001b[0;34m\"has_index_names\"\u001b[0m\u001b[0;34m]\u001b[0m\u001b[0;34m\u001b[0m\u001b[0;34m\u001b[0m\u001b[0m\n\u001b[1;32m    947\u001b[0m \u001b[0;34m\u001b[0m\u001b[0m\n\u001b[0;32m--> 948\u001b[0;31m         \u001b[0mself\u001b[0m\u001b[0;34m.\u001b[0m\u001b[0m_make_engine\u001b[0m\u001b[0;34m(\u001b[0m\u001b[0mself\u001b[0m\u001b[0;34m.\u001b[0m\u001b[0mengine\u001b[0m\u001b[0;34m)\u001b[0m\u001b[0;34m\u001b[0m\u001b[0;34m\u001b[0m\u001b[0m\n\u001b[0m\u001b[1;32m    949\u001b[0m \u001b[0;34m\u001b[0m\u001b[0m\n\u001b[1;32m    950\u001b[0m     \u001b[0;32mdef\u001b[0m \u001b[0mclose\u001b[0m\u001b[0;34m(\u001b[0m\u001b[0mself\u001b[0m\u001b[0;34m)\u001b[0m\u001b[0;34m:\u001b[0m\u001b[0;34m\u001b[0m\u001b[0;34m\u001b[0m\u001b[0m\n",
            "\u001b[0;32m/usr/local/lib/python3.7/dist-packages/pandas/io/parsers.py\u001b[0m in \u001b[0;36m_make_engine\u001b[0;34m(self, engine)\u001b[0m\n\u001b[1;32m   1178\u001b[0m     \u001b[0;32mdef\u001b[0m \u001b[0m_make_engine\u001b[0m\u001b[0;34m(\u001b[0m\u001b[0mself\u001b[0m\u001b[0;34m,\u001b[0m \u001b[0mengine\u001b[0m\u001b[0;34m=\u001b[0m\u001b[0;34m\"c\"\u001b[0m\u001b[0;34m)\u001b[0m\u001b[0;34m:\u001b[0m\u001b[0;34m\u001b[0m\u001b[0;34m\u001b[0m\u001b[0m\n\u001b[1;32m   1179\u001b[0m         \u001b[0;32mif\u001b[0m \u001b[0mengine\u001b[0m \u001b[0;34m==\u001b[0m \u001b[0;34m\"c\"\u001b[0m\u001b[0;34m:\u001b[0m\u001b[0;34m\u001b[0m\u001b[0;34m\u001b[0m\u001b[0m\n\u001b[0;32m-> 1180\u001b[0;31m             \u001b[0mself\u001b[0m\u001b[0;34m.\u001b[0m\u001b[0m_engine\u001b[0m \u001b[0;34m=\u001b[0m \u001b[0mCParserWrapper\u001b[0m\u001b[0;34m(\u001b[0m\u001b[0mself\u001b[0m\u001b[0;34m.\u001b[0m\u001b[0mf\u001b[0m\u001b[0;34m,\u001b[0m \u001b[0;34m**\u001b[0m\u001b[0mself\u001b[0m\u001b[0;34m.\u001b[0m\u001b[0moptions\u001b[0m\u001b[0;34m)\u001b[0m\u001b[0;34m\u001b[0m\u001b[0;34m\u001b[0m\u001b[0m\n\u001b[0m\u001b[1;32m   1181\u001b[0m         \u001b[0;32melse\u001b[0m\u001b[0;34m:\u001b[0m\u001b[0;34m\u001b[0m\u001b[0;34m\u001b[0m\u001b[0m\n\u001b[1;32m   1182\u001b[0m             \u001b[0;32mif\u001b[0m \u001b[0mengine\u001b[0m \u001b[0;34m==\u001b[0m \u001b[0;34m\"python\"\u001b[0m\u001b[0;34m:\u001b[0m\u001b[0;34m\u001b[0m\u001b[0;34m\u001b[0m\u001b[0m\n",
            "\u001b[0;32m/usr/local/lib/python3.7/dist-packages/pandas/io/parsers.py\u001b[0m in \u001b[0;36m__init__\u001b[0;34m(self, src, **kwds)\u001b[0m\n\u001b[1;32m   2008\u001b[0m         \u001b[0mkwds\u001b[0m\u001b[0;34m[\u001b[0m\u001b[0;34m\"usecols\"\u001b[0m\u001b[0;34m]\u001b[0m \u001b[0;34m=\u001b[0m \u001b[0mself\u001b[0m\u001b[0;34m.\u001b[0m\u001b[0musecols\u001b[0m\u001b[0;34m\u001b[0m\u001b[0;34m\u001b[0m\u001b[0m\n\u001b[1;32m   2009\u001b[0m \u001b[0;34m\u001b[0m\u001b[0m\n\u001b[0;32m-> 2010\u001b[0;31m         \u001b[0mself\u001b[0m\u001b[0;34m.\u001b[0m\u001b[0m_reader\u001b[0m \u001b[0;34m=\u001b[0m \u001b[0mparsers\u001b[0m\u001b[0;34m.\u001b[0m\u001b[0mTextReader\u001b[0m\u001b[0;34m(\u001b[0m\u001b[0msrc\u001b[0m\u001b[0;34m,\u001b[0m \u001b[0;34m**\u001b[0m\u001b[0mkwds\u001b[0m\u001b[0;34m)\u001b[0m\u001b[0;34m\u001b[0m\u001b[0;34m\u001b[0m\u001b[0m\n\u001b[0m\u001b[1;32m   2011\u001b[0m         \u001b[0mself\u001b[0m\u001b[0;34m.\u001b[0m\u001b[0munnamed_cols\u001b[0m \u001b[0;34m=\u001b[0m \u001b[0mself\u001b[0m\u001b[0;34m.\u001b[0m\u001b[0m_reader\u001b[0m\u001b[0;34m.\u001b[0m\u001b[0munnamed_cols\u001b[0m\u001b[0;34m\u001b[0m\u001b[0;34m\u001b[0m\u001b[0m\n\u001b[1;32m   2012\u001b[0m \u001b[0;34m\u001b[0m\u001b[0m\n",
            "\u001b[0;32mpandas/_libs/parsers.pyx\u001b[0m in \u001b[0;36mpandas._libs.parsers.TextReader.__cinit__\u001b[0;34m()\u001b[0m\n",
            "\u001b[0;32mpandas/_libs/parsers.pyx\u001b[0m in \u001b[0;36mpandas._libs.parsers.TextReader._setup_parser_source\u001b[0;34m()\u001b[0m\n",
            "\u001b[0;31mFileNotFoundError\u001b[0m: [Errno 2] No such file or directory: '/kaggle/input/twitter-and-reddit-sentimental-analysis-dataset/Twitter_Data.csv'"
          ]
        }
      ]
    },
    {
      "cell_type": "markdown",
      "metadata": {
        "id": "fQd7Zl_ysn-b"
      },
      "source": [
        "The `category` column has 3 values:\n",
        "1. 0 Indicating it is a Neutral Sentiment\n",
        "2. 1 Indicating a Postive Sentiment\n",
        "3. -1 Indicating a Negative Sentiment"
      ]
    },
    {
      "cell_type": "code",
      "metadata": {
        "_uuid": "761e3a65-4752-4612-ad4d-5650ef68827d",
        "_cell_guid": "14701fc9-f0dc-455a-98a7-21694db41ed7",
        "jupyter": {
          "outputs_hidden": false
        },
        "trusted": true,
        "id": "UE_LUWELsn-b"
      },
      "source": [
        "# Check for missing data\n",
        "df.isnull().sum()"
      ],
      "execution_count": null,
      "outputs": []
    },
    {
      "cell_type": "code",
      "metadata": {
        "_uuid": "9ec57a69-dcf6-4065-98c5-e480df06390b",
        "_cell_guid": "1b4a7e63-4207-4f9f-ba6c-26731dd5f9ec",
        "jupyter": {
          "outputs_hidden": false
        },
        "trusted": true,
        "id": "j_vkQK3Tsn-c"
      },
      "source": [
        "# drop missing rows\n",
        "df.dropna(axis=0, inplace=True)"
      ],
      "execution_count": null,
      "outputs": []
    },
    {
      "cell_type": "code",
      "metadata": {
        "_uuid": "af1bf9ca-c2f5-4638-adb9-ae9f1deebed5",
        "_cell_guid": "20a99ef2-1e46-4642-90f1-fe8bec3755ef",
        "jupyter": {
          "outputs_hidden": false
        },
        "trusted": true,
        "id": "lOP_syAHsn-c"
      },
      "source": [
        "# dimensionality of the data\n",
        "df.shape"
      ],
      "execution_count": null,
      "outputs": []
    },
    {
      "cell_type": "code",
      "metadata": {
        "_uuid": "b273b4f2-c5f2-4117-bf7f-c31063a6cf02",
        "_cell_guid": "33591c69-1fa9-4fa8-ae35-e32c2bfba5bf",
        "jupyter": {
          "outputs_hidden": false
        },
        "trusted": true,
        "id": "VHZnThXOsn-c"
      },
      "source": [
        "# Map tweet categories\n",
        "df['category'] = df['category'].map({-1.0:'Negative', 0.0:'Neutral', 1.0:'Positive'})\n",
        "# Output first five rows\n",
        "df.head()"
      ],
      "execution_count": null,
      "outputs": []
    },
    {
      "cell_type": "markdown",
      "metadata": {
        "_uuid": "463190ce-1ba6-4963-b40f-8d002b2418dd",
        "_cell_guid": "54ee78d7-3c15-4277-a563-fab7fff1e1b0",
        "trusted": true,
        "id": "wMHz4pMesn-d"
      },
      "source": [
        "## Exploratory Data Analysis"
      ]
    },
    {
      "cell_type": "markdown",
      "metadata": {
        "id": "SbKvL2j5sn-d"
      },
      "source": [
        "Data Visualisation-"
      ]
    },
    {
      "cell_type": "code",
      "metadata": {
        "_uuid": "6ff05a5b-e01c-41a9-943d-1f2648f19365",
        "_cell_guid": "3fd8333e-99c7-40e1-ba14-1818faf306b3",
        "jupyter": {
          "outputs_hidden": false
        },
        "trusted": true,
        "id": "l9WaB0Ucsn-d"
      },
      "source": [
        "# The distribution of sentiments\n",
        "df.groupby('category').count().plot(kind='bar')"
      ],
      "execution_count": null,
      "outputs": []
    },
    {
      "cell_type": "markdown",
      "metadata": {
        "id": "UajCDRg7sn-e"
      },
      "source": [
        "Plotting the distribution of tweet lengths"
      ]
    },
    {
      "cell_type": "code",
      "metadata": {
        "_uuid": "42b0d525-77c9-4024-bb80-519f5bb7de5b",
        "_cell_guid": "2328d231-9f48-4352-a359-2a5e35b43074",
        "jupyter": {
          "outputs_hidden": false
        },
        "trusted": true,
        "id": "_c_tbNCWsn-e"
      },
      "source": [
        "# Calculate tweet lengths\n",
        "tweet_len = pd.Series([len(tweet.split()) for tweet in df['clean_text']])\n",
        "\n",
        "# The distribution of tweet text lengths\n",
        "tweet_len.plot(kind='box')"
      ],
      "execution_count": null,
      "outputs": []
    },
    {
      "cell_type": "markdown",
      "metadata": {
        "id": "xJNLeKfesn-e"
      },
      "source": [
        "Plotting the distribution of text length for positive sentiment tweets"
      ]
    },
    {
      "cell_type": "code",
      "metadata": {
        "_uuid": "ce94146f-a389-4fbe-8b44-a9211d8544b0",
        "_cell_guid": "3ff34cdc-1349-419b-9e3b-a7ef0d00b07c",
        "jupyter": {
          "outputs_hidden": false
        },
        "trusted": true,
        "id": "7sYUcs1Fsn-e"
      },
      "source": [
        "fig = plt.figure(figsize=(14,7))\n",
        "df['length'] = df.clean_text.str.split().apply(len)\n",
        "ax1 = fig.add_subplot(122)\n",
        "sns.histplot(df[df['category']=='Positive']['length'], ax=ax1,color='green')\n",
        "describe = df.length[df.category=='Positive'].describe().to_frame().round(2)\n",
        "\n",
        "ax2 = fig.add_subplot(121)\n",
        "ax2.axis('off')\n",
        "font_size = 14\n",
        "bbox = [0, 0, 1, 1]\n",
        "table = ax2.table(cellText = describe.values, rowLabels = describe.index, bbox=bbox, colLabels=describe.columns)\n",
        "table.set_fontsize(font_size)\n",
        "fig.suptitle('Distribution of text length for positive sentiment tweets.', fontsize=16)\n",
        "\n",
        "plt.show()"
      ],
      "execution_count": null,
      "outputs": []
    },
    {
      "cell_type": "markdown",
      "metadata": {
        "id": "xZcJOu7isn-f"
      },
      "source": [
        "Plotting the Distribution of text length for Negative sentiment tweets."
      ]
    },
    {
      "cell_type": "code",
      "metadata": {
        "_uuid": "c95f775d-7422-42f9-8163-556026506726",
        "_cell_guid": "813e9852-c778-4cda-8f4c-ee78819485e6",
        "jupyter": {
          "outputs_hidden": false
        },
        "trusted": true,
        "id": "RHRMequqsn-f"
      },
      "source": [
        "fig = plt.figure(figsize=(14,7))\n",
        "df['length'] = df.clean_text.str.split().apply(len)\n",
        "ax1 = fig.add_subplot(122)\n",
        "sns.histplot(df[df['category']=='Negative']['length'], ax=ax1,color='red')\n",
        "describe = df.length[df.category=='Negative'].describe().to_frame().round(2)\n",
        "\n",
        "ax2 = fig.add_subplot(121)\n",
        "ax2.axis('off')\n",
        "font_size = 14\n",
        "bbox = [0, 0, 1, 1]\n",
        "table = ax2.table(cellText = describe.values, rowLabels = describe.index, bbox=bbox, colLabels=describe.columns)\n",
        "table.set_fontsize(font_size)\n",
        "fig.suptitle('Distribution of text length for Negative sentiment tweets.', fontsize=16)\n",
        "\n",
        "plt.show()"
      ],
      "execution_count": null,
      "outputs": []
    },
    {
      "cell_type": "markdown",
      "metadata": {
        "id": "J2UZIFJIsn-f"
      },
      "source": [
        "Plotting the Pie chart of the percentage of different sentiments of all the tweets"
      ]
    },
    {
      "cell_type": "code",
      "metadata": {
        "_uuid": "f4a51e49-4844-4041-ae46-3181a79efcdb",
        "_cell_guid": "adda1d9b-c0d6-445f-984f-f58cfd0d6fb2",
        "jupyter": {
          "outputs_hidden": false
        },
        "trusted": true,
        "id": "Ymo-z4TPsn-g"
      },
      "source": [
        "import plotly.express as px\n",
        "fig = px.pie(df, names='category', title ='Pie chart of different sentiments of tweets')\n",
        "fig.show()"
      ],
      "execution_count": null,
      "outputs": []
    },
    {
      "cell_type": "code",
      "metadata": {
        "_uuid": "74a94b66-61ce-415c-a7f7-5bc53e44d031",
        "_cell_guid": "cd01cd21-fea5-4b29-8dc8-4c5609ac2a47",
        "jupyter": {
          "outputs_hidden": false
        },
        "trusted": true,
        "id": "I9AYxYKzsn-g"
      },
      "source": [
        "df.drop(['length'], axis=1, inplace=True)\n",
        "df.head"
      ],
      "execution_count": null,
      "outputs": []
    },
    {
      "cell_type": "markdown",
      "metadata": {
        "_uuid": "814e1b59-21f6-40fa-9384-9f414ed52d76",
        "_cell_guid": "650dbeac-0f41-4ab6-94a7-27960642f46f",
        "trusted": true,
        "id": "k_UwcpUQsn-g"
      },
      "source": [
        "#### Visualizing data into wordclouds\n",
        "\n",
        "```\n",
        "from wordcloud import WordCloud, STOPWORDS\n",
        "\n",
        "def wordcount_gen(df, category):\n",
        "    '''\n",
        "    Generating Word Cloud\n",
        "    inputs:\n",
        "       - df: tweets dataset\n",
        "       - category: Positive/Negative/Neutral\n",
        "    '''\n",
        "    # Combine all tweets\n",
        "    combined_tweets = \" \".join([tweet for tweet in df[df.category==category]['clean_text']])\n",
        "                          \n",
        "    # Initialize wordcloud object\n",
        "    wc = WordCloud(background_color='white', \n",
        "                   max_words=50, \n",
        "                   stopwords = STOPWORDS)\n",
        "\n",
        "    # Generate and plot wordcloud\n",
        "    plt.figure(figsize=(10,10))\n",
        "    plt.imshow(wc.generate(combined_tweets))\n",
        "    plt.title('{} Sentiment Words'.format(category), fontsize=20)\n",
        "    plt.axis('off')\n",
        "    plt.show()\n",
        "    \n",
        "    # Positive tweet words\n",
        "     wordcount_gen(df, 'Positive')\n",
        "     \n",
        "    # Negative tweet words\n",
        "     wordcount_gen(df, 'Negative')\n",
        "     \n",
        "    # Neutral tweet words\n",
        "     wordcount_gen(df, 'Neutral')\n",
        "     \n",
        "```"
      ]
    },
    {
      "cell_type": "markdown",
      "metadata": {
        "_uuid": "17398c00-f2e4-4942-9d90-034323f8619a",
        "_cell_guid": "9679c49a-1989-42dc-9b20-28db4fd2b1db",
        "trusted": true,
        "id": "lgeZekn_sn-h"
      },
      "source": [
        "## Data Preprocessing"
      ]
    },
    {
      "cell_type": "code",
      "metadata": {
        "_uuid": "1db46791-9c49-4f5d-81cb-2c14b28adc5b",
        "_cell_guid": "7d9105fc-e9fe-41e4-a134-3055b96588e4",
        "jupyter": {
          "outputs_hidden": false
        },
        "trusted": true,
        "id": "0rN9iySUsn-h"
      },
      "source": [
        "def tweet_to_words(tweet):\n",
        "    ''' Convert tweet text into a sequence of words '''\n",
        "    \n",
        "    # convert to lowercase\n",
        "    text = tweet.lower()\n",
        "    # remove non letters\n",
        "    text = re.sub(r\"[^a-zA-Z0-9]\", \" \", text)\n",
        "    # tokenize\n",
        "    words = text.split()\n",
        "    # remove stopwords\n",
        "    words = [w for w in words if w not in stopwords.words(\"english\")]\n",
        "    # apply stemming\n",
        "    words = [PorterStemmer().stem(w) for w in words]\n",
        "    # return list\n",
        "    return words\n",
        "\n",
        "print(\"\\nOriginal tweet ->\", df['clean_text'][0])\n",
        "print(\"\\nProcessed tweet ->\", tweet_to_words(df['clean_text'][0]))"
      ],
      "execution_count": null,
      "outputs": []
    },
    {
      "cell_type": "code",
      "metadata": {
        "_uuid": "286006c4-8b86-41c4-a689-8bac2f2efd6e",
        "_cell_guid": "aff6eff6-4082-4251-975c-e1527bad8f44",
        "jupyter": {
          "outputs_hidden": false
        },
        "trusted": true,
        "id": "oghfqiTYsn-i"
      },
      "source": [
        "# Apply data processing to each tweet\n",
        "X = list(map(tweet_to_words, df['clean_text']))"
      ],
      "execution_count": null,
      "outputs": []
    },
    {
      "cell_type": "code",
      "metadata": {
        "_uuid": "facd1dca-7d78-4257-ab6f-9e79791a36b3",
        "_cell_guid": "b9ac1bab-1d1f-4da8-9e65-75fdec02048a",
        "jupyter": {
          "outputs_hidden": false
        },
        "trusted": true,
        "id": "zQ3SJx0wsn-i"
      },
      "source": [
        "from sklearn.preprocessing import LabelEncoder\n",
        "\n",
        "# Encode target labels\n",
        "le = LabelEncoder()\n",
        "Y = le.fit_transform(df['category'])"
      ],
      "execution_count": null,
      "outputs": []
    },
    {
      "cell_type": "code",
      "metadata": {
        "_uuid": "8963ce7e-b229-435f-9aaf-1025cc6af3c2",
        "_cell_guid": "3747148e-0c40-4412-8852-fdff176f38bd",
        "jupyter": {
          "outputs_hidden": false
        },
        "trusted": true,
        "id": "Kqdjqulxsn-i"
      },
      "source": [
        "print(X[0])\n",
        "print(Y[0])"
      ],
      "execution_count": null,
      "outputs": []
    },
    {
      "cell_type": "markdown",
      "metadata": {
        "_uuid": "a0da1385-fca0-4f62-b04d-0ce7062a29d3",
        "_cell_guid": "eb226a2a-e347-41f4-94f2-32b6cab625fe",
        "trusted": true,
        "id": "6-fl2eNFsn-i"
      },
      "source": [
        "### Train and test split"
      ]
    },
    {
      "cell_type": "code",
      "metadata": {
        "_uuid": "1dcb55f1-b6f9-4883-bc2b-f23f258e51d4",
        "_cell_guid": "29c0b0eb-8826-4087-b0a7-bf3741fcea27",
        "jupyter": {
          "outputs_hidden": false
        },
        "trusted": true,
        "id": "zWXyAt8rsn-i"
      },
      "source": [
        "X_train, X_test, y_train, y_test = train_test_split(X, Y, test_size=0.2, random_state=1)\n",
        "\n",
        "print('Number of tweets in the total set : {}'.format(len(X)))\n",
        "print('Number of tweets in the training set : {}'.format(len(X_train)))\n",
        "print('Number of tweets in the testing set : {}'.format(len(X_test)))"
      ],
      "execution_count": null,
      "outputs": []
    },
    {
      "cell_type": "markdown",
      "metadata": {
        "_uuid": "491a6366-f55c-43fd-952c-adf488c8cb09",
        "_cell_guid": "4d4937fe-c9bb-4d38-a748-216311875d3e",
        "trusted": true,
        "id": "3M8ZZFR5sn-j"
      },
      "source": [
        "### Bag of words (BOW) feature extraction"
      ]
    },
    {
      "cell_type": "code",
      "metadata": {
        "_uuid": "996d786e-5210-4f77-87ee-9da2868f8cbf",
        "_cell_guid": "34b2a164-8996-43d2-b63a-fc1dca2f7bda",
        "jupyter": {
          "outputs_hidden": false
        },
        "trusted": true,
        "id": "C7RK_H61sn-j"
      },
      "source": [
        "from sklearn.feature_extraction.text import CountVectorizer\n",
        "#from sklearn.feature_extraction.text import TfidfVectorizer\n",
        "\n",
        "vocabulary_size = 5000\n",
        "\n",
        "# Tweets have already been preprocessed hence dummy function will be passed in \n",
        "# to preprocessor & tokenizer step\n",
        "count_vector = CountVectorizer(max_features=vocabulary_size,\n",
        "#                               ngram_range=(1,2),    # unigram and bigram\n",
        "                                preprocessor=lambda x: x,\n",
        "                               tokenizer=lambda x: x) \n",
        "#tfidf_vector = TfidfVectorizer(lowercase=True, stop_words='english')\n",
        "\n",
        "# Fit the training data\n",
        "X_train = count_vector.fit_transform(X_train).toarray()\n",
        "\n",
        "# Transform testing data\n",
        "X_test = count_vector.transform(X_test).toarray()"
      ],
      "execution_count": null,
      "outputs": []
    },
    {
      "cell_type": "code",
      "metadata": {
        "_uuid": "3d625116-28fa-4a42-92b3-0079b7616621",
        "_cell_guid": "0f0e4870-33b2-4823-b00b-c020887a3cac",
        "jupyter": {
          "outputs_hidden": false
        },
        "trusted": true,
        "id": "4TTofLBwsn-j"
      },
      "source": [
        "#import sklearn.preprocessing as pr\n",
        "\n",
        "# Normalize BoW features in training and test set\n",
        "#X_train = pr.normalize(X_train, axis=1)\n",
        "#X_test  = pr.normalize(X_test, axis=1)"
      ],
      "execution_count": null,
      "outputs": []
    },
    {
      "cell_type": "code",
      "metadata": {
        "_uuid": "b6d78e9a-dd06-40a8-9b1e-2187f57e9692",
        "_cell_guid": "afac8eef-d745-4da8-9568-bbd4e9ffc8e5",
        "jupyter": {
          "outputs_hidden": false
        },
        "trusted": true,
        "id": "GBDAt6HXsn-j"
      },
      "source": [
        "# print first 200 words/tokens\n",
        "print(count_vector.get_feature_names()[0:200])"
      ],
      "execution_count": null,
      "outputs": []
    },
    {
      "cell_type": "code",
      "metadata": {
        "_uuid": "c1f03cca-7e8c-4d0c-bc4f-43b1abde1be6",
        "_cell_guid": "0c346569-cd52-49ce-97c7-eab0837f41d4",
        "jupyter": {
          "outputs_hidden": false
        },
        "trusted": true,
        "id": "UD7xbyalsn-k"
      },
      "source": [
        "# Plot the BoW feature vector\n",
        "plt.plot(X_train[2,:])\n",
        "plt.xlabel('Word')\n",
        "plt.ylabel('Count')\n",
        "plt.show()"
      ],
      "execution_count": null,
      "outputs": []
    },
    {
      "cell_type": "markdown",
      "metadata": {
        "_uuid": "49af8537-1541-43a6-9486-5a566905b841",
        "_cell_guid": "3521e2e4-612a-40da-966c-53e7726f9de8",
        "trusted": true,
        "id": "lA63Otu-sn-k"
      },
      "source": [
        "### Tokenizing & Padding"
      ]
    },
    {
      "cell_type": "code",
      "metadata": {
        "_uuid": "08a304ab-d8b5-4505-a058-ba15f8665f7a",
        "_cell_guid": "cf980114-b671-477c-97eb-855b89ae5385",
        "jupyter": {
          "outputs_hidden": false
        },
        "trusted": true,
        "id": "AKGujeStsn-k"
      },
      "source": [
        "from keras.preprocessing.text import Tokenizer\n",
        "from keras.preprocessing.sequence import pad_sequences\n",
        "\n",
        "max_words = 5000\n",
        "max_len=50\n",
        "\n",
        "def tokenize_pad_sequences(text):\n",
        "    '''\n",
        "    This function tokenize the input text into sequnences of intergers and then\n",
        "    pad each sequence to the same length\n",
        "    '''\n",
        "    # Text tokenization\n",
        "    tokenizer = Tokenizer(num_words=max_words, lower=True, split=' ')\n",
        "    tokenizer.fit_on_texts(text)\n",
        "    # Transforms text to a sequence of integers\n",
        "    X = tokenizer.texts_to_sequences(text)\n",
        "    # Pad sequences to the same length\n",
        "    X = pad_sequences(X, padding='post', maxlen=max_len)\n",
        "    # return sequences\n",
        "    return X, tokenizer\n",
        "\n",
        "print('Before Tokenization & Padding \\n', df['clean_text'][0])\n",
        "X, tokenizer = tokenize_pad_sequences(df['clean_text'])\n",
        "print('After Tokenization & Padding \\n', X[0])\n",
        "\n",
        "\n"
      ],
      "execution_count": null,
      "outputs": []
    },
    {
      "cell_type": "markdown",
      "metadata": {
        "id": "gbONKhzMsn-k"
      },
      "source": [
        "### Saving tokenized data "
      ]
    },
    {
      "cell_type": "code",
      "metadata": {
        "trusted": true,
        "id": "VWCINFrZsn-l"
      },
      "source": [
        "import pickle\n",
        "\n",
        "# saving\n",
        "with open('tokenizer.pickle', 'wb') as handle:\n",
        "    pickle.dump(tokenizer, handle, protocol=pickle.HIGHEST_PROTOCOL)\n",
        "\n",
        "# loading\n",
        "with open('tokenizer.pickle', 'rb') as handle:\n",
        "    tokenizer = pickle.load(handle)"
      ],
      "execution_count": null,
      "outputs": []
    },
    {
      "cell_type": "markdown",
      "metadata": {
        "_uuid": "79c8a487-d091-4382-9c04-dc846ac8eb7d",
        "_cell_guid": "5944b18b-e13f-4179-bb71-a933cd83a832",
        "trusted": true,
        "id": "jSEEmPzZsn-l"
      },
      "source": [
        "### Train & Test Split"
      ]
    },
    {
      "cell_type": "code",
      "metadata": {
        "_uuid": "8dcaa896-1b34-4a39-916a-f054a48ea56f",
        "_cell_guid": "5f420062-c836-4f1c-ac2d-c2e3de4d3828",
        "jupyter": {
          "outputs_hidden": false
        },
        "trusted": true,
        "id": "PlUHBhnisn-l"
      },
      "source": [
        "# Convert categorical variable into dummy/indicator variables.\n",
        "y = pd.get_dummies(df['category'])\n",
        "# Train and Test split\n",
        "X_train, X_test,y_train, y_test = train_test_split(X, y, test_size = 0.3, random_state = 42)\n",
        "# Extracting validation set from the train set\n",
        "valid_size=1000\n",
        "X_valid, y_valid = X_train[-valid_size:], y_train[-valid_size:]\n",
        "X_test, y_test = X_train[:-valid_size], y_train[:-valid_size]\n",
        "\n",
        "print('Train Set ->', X_train.shape, y_train.shape)\n",
        "print('Validation Set ->', X_valid.shape, y_valid.shape)\n",
        "print('Test Set ->', X_test.shape, y_test.shape)"
      ],
      "execution_count": null,
      "outputs": []
    },
    {
      "cell_type": "code",
      "metadata": {
        "_uuid": "9fb4c79e-f67e-4e65-a117-61abd187af2d",
        "_cell_guid": "928f4dee-55cc-4543-8fad-01e99e47ae1c",
        "jupyter": {
          "outputs_hidden": false
        },
        "trusted": true,
        "id": "0c-YgxOmsn-l"
      },
      "source": [
        "import keras.backend as K\n",
        "\n",
        "def f1_score(precision, recall):\n",
        "    ''' Function to calculate f1 score '''\n",
        "    \n",
        "    f1_val = 2*(precision*recall)/(precision+recall+K.epsilon())\n",
        "    return f1_val"
      ],
      "execution_count": null,
      "outputs": []
    },
    {
      "cell_type": "markdown",
      "metadata": {
        "_uuid": "da9f7b32-1ff4-4bc0-99a4-6609478a0ebd",
        "_cell_guid": "cbf58d8d-47b3-4187-8a4b-804eb2ad07dc",
        "trusted": true,
        "id": "fOGIf2Rusn-m"
      },
      "source": [
        "## Bidirectional LSTM Using NN"
      ]
    },
    {
      "cell_type": "code",
      "metadata": {
        "_uuid": "a389aa06-ada3-4b83-b20d-d2de6808fae5",
        "_cell_guid": "757f491b-d899-462b-a600-0978c51b92d7",
        "jupyter": {
          "outputs_hidden": false
        },
        "trusted": true,
        "id": "Tre3nCnusn-m"
      },
      "source": [
        "from keras.models import Sequential\n",
        "from keras.layers import Embedding, Conv1D, MaxPooling1D, Bidirectional, LSTM, Dense, Dropout\n",
        "from keras.metrics import Precision, Recall\n",
        "\n",
        "vocab_size = 5000\n",
        "embedding_size = 32\n",
        "\n",
        "# Build model\n",
        "model= Sequential()\n",
        "model.add(Embedding(vocab_size, embedding_size, input_length=max_len))\n",
        "model.add(Conv1D(filters=32, kernel_size=3, padding='same', activation='relu'))\n",
        "model.add(MaxPooling1D(pool_size=2))\n",
        "model.add(Bidirectional(LSTM(32)))\n",
        "model.add(Dropout(0.4))\n",
        "model.add(Dense(3, activation='softmax'))"
      ],
      "execution_count": null,
      "outputs": []
    },
    {
      "cell_type": "code",
      "metadata": {
        "_uuid": "8ac90372-f93f-4119-b677-c1d9fe5261d6",
        "_cell_guid": "59ba5ef3-ddab-48b2-87b1-bc00768f651a",
        "jupyter": {
          "outputs_hidden": false
        },
        "trusted": true,
        "id": "vdrP3WoWsn-m"
      },
      "source": [
        "import tensorflow as tf\n",
        "tf.keras.utils.plot_model(model, show_shapes=True)"
      ],
      "execution_count": null,
      "outputs": []
    },
    {
      "cell_type": "code",
      "metadata": {
        "_uuid": "ffadf2cf-1ea3-4564-84b8-28e842c6a7e4",
        "_cell_guid": "dbc40b9f-f220-4163-9c10-f627e4b2e7fa",
        "jupyter": {
          "outputs_hidden": false
        },
        "trusted": true,
        "id": "VSsWtGRxsn-n"
      },
      "source": [
        "print(model.summary())\n",
        "\n",
        "# Compile model\n",
        "model.compile(loss='categorical_crossentropy', optimizer='adam', \n",
        "               metrics=['accuracy', Precision(), Recall()])\n",
        "\n",
        "# Train model\n",
        "num_epochs = 10\n",
        "batch_size = 32\n",
        "history = model.fit(X_train, y_train,\n",
        "                      validation_data=(X_valid, y_valid),\n",
        "                      batch_size=batch_size, epochs=num_epochs, verbose=0)"
      ],
      "execution_count": null,
      "outputs": []
    },
    {
      "cell_type": "code",
      "metadata": {
        "trusted": true,
        "id": "vpVVNvdrsn-n"
      },
      "source": [
        "#import joblib\n",
        "#filename = 'finalized_model.sav'\n",
        "#joblib.dump(model, filename)"
      ],
      "execution_count": null,
      "outputs": []
    },
    {
      "cell_type": "markdown",
      "metadata": {
        "_uuid": "fdbb62dd-6477-484b-bdc7-6c45054ead26",
        "_cell_guid": "fd263ffc-54ef-4e3b-82e4-2342621dd738",
        "trusted": true,
        "id": "S7pJNM32sn-n"
      },
      "source": [
        "### Model Accuracy & Loss"
      ]
    },
    {
      "cell_type": "code",
      "metadata": {
        "_uuid": "24dbf544-d8d3-47e1-a3cf-1ec6f8b9c03f",
        "_cell_guid": "4f9c1f70-c250-411e-946e-18e6e5b43e95",
        "jupyter": {
          "outputs_hidden": false
        },
        "trusted": true,
        "id": "f4z_4KJKsn-n"
      },
      "source": [
        "# Evaluate model on the test set\n",
        "loss, accuracy, precision, recall = model.evaluate(X_test, y_test, verbose=0)\n",
        "# Print metrics\n",
        "print('')\n",
        "print('Accuracy  : {:.4f}'.format(accuracy))\n",
        "print('Precision : {:.4f}'.format(precision))\n",
        "print('Recall    : {:.4f}'.format(recall))\n",
        "print('F1 Score  : {:.4f}'.format(f1_score(precision, recall)))"
      ],
      "execution_count": null,
      "outputs": []
    },
    {
      "cell_type": "code",
      "metadata": {
        "_uuid": "263b4393-cff9-459d-b600-52179a3333e0",
        "_cell_guid": "8cbeb6c7-e79c-4e1b-93c7-bccb5a6f82dc",
        "jupyter": {
          "outputs_hidden": false
        },
        "trusted": true,
        "id": "pITbTaJLsn-o"
      },
      "source": [
        "def plot_training_hist(history):\n",
        "    '''Function to plot history for accuracy and loss'''\n",
        "    \n",
        "    fig, ax = plt.subplots(1, 2, figsize=(10,4))\n",
        "    # first plot\n",
        "    ax[0].plot(history.history['accuracy'])\n",
        "    ax[0].plot(history.history['val_accuracy'])\n",
        "    ax[0].set_title('Model Accuracy')\n",
        "    ax[0].set_xlabel('epoch')\n",
        "    ax[0].set_ylabel('accuracy')\n",
        "    ax[0].legend(['train', 'validation'], loc='best')\n",
        "    # second plot\n",
        "    ax[1].plot(history.history['loss'])\n",
        "    ax[1].plot(history.history['val_loss'])\n",
        "    ax[1].set_title('Model Loss')\n",
        "    ax[1].set_xlabel('epoch')\n",
        "    ax[1].set_ylabel('loss')\n",
        "    ax[1].legend(['train', 'validation'], loc='best')\n",
        "    \n",
        "plot_training_hist(history)"
      ],
      "execution_count": null,
      "outputs": []
    },
    {
      "cell_type": "markdown",
      "metadata": {
        "_uuid": "87d8c491-c0b4-472f-af63-37d92eb7516f",
        "_cell_guid": "1efb8929-30a9-40bc-9b59-ebe4e0c4de11",
        "trusted": true,
        "id": "tpBcS_j6sn-o"
      },
      "source": [
        "### Model Confusion Matrix"
      ]
    },
    {
      "cell_type": "code",
      "metadata": {
        "_uuid": "0fedfe55-b437-48b6-8ce2-ea68b4a5547f",
        "_cell_guid": "60419de4-9e75-4dc4-8747-d362809ed2a8",
        "jupyter": {
          "outputs_hidden": false
        },
        "trusted": true,
        "id": "qt_rqZvdsn-p"
      },
      "source": [
        "from sklearn.metrics import confusion_matrix\n",
        "\n",
        "def plot_confusion_matrix(model, X_test, y_test):\n",
        "    '''Function to plot confusion matrix for the passed model and the data'''\n",
        "    \n",
        "    sentiment_classes = ['Negative', 'Neutral', 'Positive']\n",
        "    # use model to do the prediction\n",
        "    y_pred = model.predict(X_test)\n",
        "    # compute confusion matrix\n",
        "    cm = confusion_matrix(np.argmax(np.array(y_test),axis=1), np.argmax(y_pred, axis=1))\n",
        "    # plot confusion matrix\n",
        "    plt.figure(figsize=(8,6))\n",
        "    sns.heatmap(cm, cmap=plt.cm.Blues, annot=True, fmt='d', \n",
        "                xticklabels=sentiment_classes,\n",
        "                yticklabels=sentiment_classes)\n",
        "    plt.title('Confusion matrix', fontsize=16)\n",
        "    plt.xlabel('Actual label', fontsize=12)\n",
        "    plt.ylabel('Predicted label', fontsize=12)\n",
        "    \n",
        "plot_confusion_matrix(model, X_test, y_test)"
      ],
      "execution_count": null,
      "outputs": []
    },
    {
      "cell_type": "markdown",
      "metadata": {
        "_uuid": "caff625a-3e21-4e62-ae8e-a5dc4ddaaea7",
        "_cell_guid": "43523e55-89e7-4756-aa14-bb951ed920c3",
        "trusted": true,
        "id": "XXt0hsYnsn-p"
      },
      "source": [
        "### Model save and load for the prediction"
      ]
    },
    {
      "cell_type": "code",
      "metadata": {
        "_uuid": "ccba7561-55a9-436c-86ee-32f5c5e28f29",
        "_cell_guid": "30c35729-61e8-4798-9309-569fa88c9690",
        "jupyter": {
          "outputs_hidden": false
        },
        "trusted": true,
        "id": "m7CsRyvBsn-q"
      },
      "source": [
        "# Save the model architecture & the weights\n",
        "model.save('best_model.h5')\n",
        "print('Best model saved')"
      ],
      "execution_count": null,
      "outputs": []
    },
    {
      "cell_type": "code",
      "metadata": {
        "_uuid": "dc3083b7-3df8-41c7-b092-a8964fff7bb7",
        "_cell_guid": "da818a32-d086-4437-9673-a08573fb8b12",
        "jupyter": {
          "outputs_hidden": false
        },
        "trusted": true,
        "id": "wZMiO6aVsn-q"
      },
      "source": [
        "from keras.models import load_model\n",
        "\n",
        "# Load model\n",
        "model = load_model('best_model.h5')\n",
        "\n",
        "def predict_class(text):\n",
        "    '''Function to predict sentiment class of the passed text'''\n",
        "    \n",
        "    sentiment_classes = ['Negative', 'Neutral', 'Positive']\n",
        "    max_len=50\n",
        "    \n",
        "    # Transforms text to a sequence of integers using a tokenizer object\n",
        "    xt = tokenizer.texts_to_sequences(text)\n",
        "    # Pad sequences to the same length\n",
        "    xt = pad_sequences(xt, padding='post', maxlen=max_len)\n",
        "    # Do the prediction using the loaded model\n",
        "    yt = model.predict(xt).argmax(axis=1)\n",
        "    # Print the predicted sentiment\n",
        "    print('The predicted sentiment is', sentiment_classes[yt[0]])"
      ],
      "execution_count": null,
      "outputs": []
    },
    {
      "cell_type": "code",
      "metadata": {
        "_uuid": "c63054a5-200e-49c2-9307-5f2e52f6e835",
        "_cell_guid": "c12fc65b-60b4-481d-86f9-fe4f328f0fc1",
        "jupyter": {
          "outputs_hidden": false
        },
        "trusted": true,
        "id": "Dx6kCezmsn-q"
      },
      "source": [
        "predict_class(['\"I hate when I have to call and wake people up'])"
      ],
      "execution_count": null,
      "outputs": []
    },
    {
      "cell_type": "code",
      "metadata": {
        "_uuid": "692aa5aa-7c05-4de3-894b-d1efb18d6d2e",
        "_cell_guid": "fa2f7a16-2d5e-49a4-bd54-58c0dba18dfd",
        "jupyter": {
          "outputs_hidden": false
        },
        "trusted": true,
        "id": "o-CdeAj4sn-r"
      },
      "source": [
        "predict_class(['The food was meh'])"
      ],
      "execution_count": null,
      "outputs": []
    },
    {
      "cell_type": "code",
      "metadata": {
        "_uuid": "596f2cb2-a497-415d-8709-65fa5a5da0f0",
        "_cell_guid": "62491682-f3ae-44e0-b85c-e84bdda63821",
        "jupyter": {
          "outputs_hidden": false
        },
        "trusted": true,
        "id": "zVTyjCy0sn-r"
      },
      "source": [
        "predict_class(['He is a best minister india ever had seen'])"
      ],
      "execution_count": null,
      "outputs": []
    },
    {
      "cell_type": "markdown",
      "metadata": {
        "_uuid": "59c234df-2a80-4af4-8750-14dabaef4a22",
        "_cell_guid": "7b48b030-0949-439c-8780-df0c9f33a93a",
        "trusted": true,
        "id": "oM5nqmLNsn-r"
      },
      "source": [
        "To use the 'tweepy' API, you need to create an account with Twitter Developer. After creating the account, go to 'Get Started' option and navigate to the 'Create an app' option. After you create the app, note down the below required credentials from there."
      ]
    },
    {
      "cell_type": "markdown",
      "metadata": {
        "id": "Y8sq2Yjqsn-r"
      },
      "source": [
        "## Fetching data from twitter\n",
        "\n",
        "To get started, you’ll need to do the following things:\n",
        "\n",
        "  * Set up a Twitter account if you don’t have one already.\n",
        "  * Using your Twitter account, you will need to apply for Developer Access and then create an application that will generate the API credentials that you will use to access Twitter from Python.\n",
        "  *  Import the `tweepy` package."
      ]
    },
    {
      "cell_type": "markdown",
      "metadata": {
        "id": "BVaRdbHcsn-s"
      },
      "source": [
        "### Authorization"
      ]
    },
    {
      "cell_type": "markdown",
      "metadata": {
        "id": "s2O-reF_sn-s"
      },
      "source": [
        "After installing and importing `tweepy` package (already done in the beginning),to access the Twitter API, you will need 4 things from the your Twitter App page. These keys are located in your Twitter app settings in the Keys and Access Tokens tab.\n",
        "\n",
        "    consumer key\n",
        "    consumer seceret key\n",
        "    access token key\n",
        "    access token secret key\n",
        "\n",
        "Do not share these with anyone else because these values are specific to your app."
      ]
    },
    {
      "cell_type": "code",
      "metadata": {
        "_uuid": "7bdea195-b155-46f5-acad-cfdaf9c2ae3b",
        "_cell_guid": "bbe4d3d2-84c1-4c08-a5d2-83cd1669cf23",
        "jupyter": {
          "outputs_hidden": false
        },
        "trusted": true,
        "id": "b7Lfxy0Ssn-s"
      },
      "source": [
        "#Getting authorization\n",
        "consumer_key= 'fG1TLKMWWbgCmSG2LxMPnugBl'\n",
        "consumer_secret= 'rlg2ZFrOm4o84vr6080Y922jRW8YxUeEhN2NKWP4OMwfeP04uZ'\n",
        "access_token= '1382672529387618307-xVYAX5jZKnqoif7VNlOWSa5o9P8jEC'\n",
        "access_token_secret= 'I6YzprdRs49vklNt6BAYlg3ixyO1ghd8ig41gMtH9DU0N'\n",
        "auth = tw.OAuthHandler(consumer_key, consumer_key_secret)\n",
        "auth.set_access_token(access_token, access_token_secret)\n",
        "api = tw.API(auth, wait_on_rate_limit=True)"
      ],
      "execution_count": null,
      "outputs": []
    },
    {
      "cell_type": "markdown",
      "metadata": {
        "id": "FOacZFKbsn-s"
      },
      "source": [
        "## Search Twitter for Tweets"
      ]
    },
    {
      "cell_type": "markdown",
      "metadata": {
        "_uuid": "6215e63c-de71-47b1-b492-e2f319cec8cb",
        "_cell_guid": "543b1bed-b427-4b13-9543-e1fe2ac190a6",
        "trusted": true,
        "id": "6VLoMtxCsn-s"
      },
      "source": [
        "### 1. Searching for a hashtag from a specified date\n",
        "\n",
        "Now you are ready to search Twitter for recent tweets! You will use the `.Cursor` method to get an object containing tweets containing the hashtag #wildfires.\n",
        "\n",
        "To create this query, you will define the:\n",
        "\n",
        "   * Search term - in this case #WorkFromHome\n",
        "   * the start date of your search"
      ]
    },
    {
      "cell_type": "code",
      "metadata": {
        "_uuid": "94ce4b08-bd14-4b0b-a424-717729aac3d2",
        "_cell_guid": "c6bf767e-7ecc-4133-8c43-0f4b511347a5",
        "jupyter": {
          "outputs_hidden": false
        },
        "trusted": true,
        "id": "meGQXu8ssn-t"
      },
      "source": [
        "# Define the search term and the date_since date as variables\n",
        "search_words = \"#WorkFromHome\"\n",
        "date_since = \"2021-04-10\""
      ],
      "execution_count": null,
      "outputs": []
    },
    {
      "cell_type": "markdown",
      "metadata": {
        "id": "eG6FQLRdsn-t"
      },
      "source": [
        "You can restrict the number of tweets returned by specifying a number in the `.items()` method. `.items(10)` will return 10 of the most recent tweets."
      ]
    },
    {
      "cell_type": "code",
      "metadata": {
        "_uuid": "65b759cb-ee75-4a0d-a515-0a5ba159b681",
        "_cell_guid": "788d1204-8e93-490f-820c-82235d0df14d",
        "jupyter": {
          "outputs_hidden": false
        },
        "trusted": true,
        "id": "8EKn4KYqsn-t"
      },
      "source": [
        "# Collect tweets\n",
        "tweets = tw.Cursor(api.search,\n",
        "              q=search_words,\n",
        "              lang=\"en\",\n",
        "              since=date_since).items(10)\n",
        "\n",
        "# Iterate and print tweets\n",
        "for tweet in tweets:\n",
        "    print(tweet.text)\n",
        "    predict_class([tweet.text]) #predicting sentiment\n",
        "    print(\"\")"
      ],
      "execution_count": null,
      "outputs": []
    },
    {
      "cell_type": "markdown",
      "metadata": {
        "_uuid": "1c634433-e5ca-4370-be28-6605fdfb2c45",
        "_cell_guid": "26a1aac7-1a72-4aa5-9bee-cc322baa726c",
        "trusted": true,
        "id": "GmnKqDi0sn-t"
      },
      "source": [
        "### 2. Searching for a keyword\n",
        "\n",
        "You can pass the keyword of your interest here and the number of tweets (in this case 10) to be downloaded through the tweepy API."
      ]
    },
    {
      "cell_type": "code",
      "metadata": {
        "_uuid": "873d447f-6bcd-4bec-ac0d-36de9f8f628f",
        "_cell_guid": "3b80370a-977a-48e3-80ca-9cd8102516fb",
        "jupyter": {
          "outputs_hidden": false
        },
        "trusted": true,
        "id": "RNaGQZt-sn-t"
      },
      "source": [
        "for tweet in api.search(q=\"elonmusk\", lang=\"en\", rpp=10):\n",
        "    print(f\"{tweet.user.name}:{tweet.text}\")\n",
        "    predict_class([tweet.text]) #predicting sentiment\n",
        "    print(\"\")"
      ],
      "execution_count": null,
      "outputs": []
    },
    {
      "cell_type": "markdown",
      "metadata": {
        "_uuid": "fa83d7c3-c486-4180-bcb8-19e4d7ec5a1c",
        "_cell_guid": "2dfb40db-9c70-440f-a34d-6ade79701977",
        "trusted": true,
        "id": "As556Hqisn-u"
      },
      "source": [
        "### 3. Searching for a username\n",
        "\n",
        "The `user_timeline()` method of the API class in Tweepy module is used to get the most recent statuses posted from the authenticating user or the user specified.\n",
        "\n",
        "* `screen_name` = user id name of the twitter user\n",
        "* `count` = no. of tweets to be fetched\n",
        "* `lang` = language of tweet \n",
        "* `tweet_mode = 'extended'` swaps the text index for full_text, and prevents a primary tweet longer than 140 characters from being truncated.\n",
        "\n",
        "\n",
        "The below query pulls 10 tweets from Twitter user @ of english language and predicts its sentiments."
      ]
    },
    {
      "cell_type": "code",
      "metadata": {
        "_uuid": "21365826-ab22-4828-943a-8f69bf4cd14c",
        "_cell_guid": "c74cfea2-ebca-4d1e-96db-4efab31a778d",
        "jupyter": {
          "outputs_hidden": false
        },
        "trusted": true,
        "id": "ruurLmv-sn-u"
      },
      "source": [
        "posts = api.user_timeline(screen_name=\"Malala\", count = 10, lang =\"en\", tweet_mode=\"extended\")\n",
        "\n",
        "l=[] \n",
        "i=1\n",
        "\n",
        "for tweet in posts[:10]:\n",
        "    l.append(tweet.full_text) \n",
        "    i=i+1\n",
        "for j in range (0,9):\n",
        "    print(l[j])\n",
        "    predict_class(l[j])  #predicting sentiment\n",
        "    print(\"\\n\")"
      ],
      "execution_count": null,
      "outputs": []
    }
  ]
}